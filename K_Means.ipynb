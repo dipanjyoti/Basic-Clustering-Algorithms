{
  "nbformat": 4,
  "nbformat_minor": 0,
  "metadata": {
    "colab": {
      "name": "K-Means.ipynb",
      "provenance": [],
      "collapsed_sections": []
    },
    "kernelspec": {
      "name": "python3",
      "display_name": "Python 3"
    }
  },
  "cells": [
    {
      "cell_type": "code",
      "metadata": {
        "id": "Zq005unI1MnP"
      },
      "source": [
        "import numpy as np\n",
        "import matplotlib.pyplot as plot\n",
        "from matplotlib.pyplot import style\n",
        "style.use(\"seaborn-darkgrid\")\n"
      ],
      "execution_count": 153,
      "outputs": []
    },
    {
      "cell_type": "markdown",
      "metadata": {
        "id": "tZSwUFj8ZR1c"
      },
      "source": [
        " **Importing Kmeans function from sklearn package**\n"
      ]
    },
    {
      "cell_type": "code",
      "metadata": {
        "id": "4Hr4fr5HZO-M"
      },
      "source": [
        "from sklearn.cluster import KMeans\n"
      ],
      "execution_count": 154,
      "outputs": []
    },
    {
      "cell_type": "markdown",
      "metadata": {
        "id": "-Zj06Nr0Z2f9"
      },
      "source": [
        "**Importing silhouette score which act as a cluster validity index for unlabeled data**\n"
      ]
    },
    {
      "cell_type": "code",
      "metadata": {
        "id": "Zh_Fo2y6Zzo2"
      },
      "source": [
        "from sklearn.metrics import silhouette_score\n"
      ],
      "execution_count": 155,
      "outputs": []
    },
    {
      "cell_type": "markdown",
      "metadata": {
        "id": "6s7TaOs3asT0"
      },
      "source": [
        "**Importing adjusted_rand_score which act as a cluster validity index for labeled data**\n"
      ]
    },
    {
      "cell_type": "code",
      "metadata": {
        "id": "6_zJW-iYaqTg"
      },
      "source": [
        "from sklearn.metrics import adjusted_rand_score, adjusted_mutual_info_score"
      ],
      "execution_count": 156,
      "outputs": []
    },
    {
      "cell_type": "markdown",
      "metadata": {
        "id": "Sx0ggiJwa50j"
      },
      "source": [
        "**Load the 2D data as an user input**\n"
      ]
    },
    {
      "cell_type": "code",
      "metadata": {
        "colab": {
          "base_uri": "https://localhost:8080/"
        },
        "id": "Qz1GtyVF3DGY",
        "outputId": "4d7c6d31-f768-43a3-8410-6c34905a193e"
      },
      "source": [
        "all_data = np.array([[1, 2], [5,8], [1.5, 1.8] ,[8,8], [9,11], [10,1], [7,5], [9,2], [3,7]])\n",
        "D = all_data\n",
        "print (D)\n"
      ],
      "execution_count": 157,
      "outputs": [
        {
          "output_type": "stream",
          "text": [
            "[[ 1.   2. ]\n",
            " [ 5.   8. ]\n",
            " [ 1.5  1.8]\n",
            " [ 8.   8. ]\n",
            " [ 9.  11. ]\n",
            " [10.   1. ]\n",
            " [ 7.   5. ]\n",
            " [ 9.   2. ]\n",
            " [ 3.   7. ]]\n"
          ],
          "name": "stdout"
        }
      ]
    },
    {
      "cell_type": "markdown",
      "metadata": {
        "id": "jC5FvCKabC0e"
      },
      "source": [
        "**Call the Kmeans function and train the data**\n"
      ]
    },
    {
      "cell_type": "code",
      "metadata": {
        "colab": {
          "base_uri": "https://localhost:8080/"
        },
        "id": "Zp3BENyE3VmB",
        "outputId": "8c1554bd-cd52-4bac-8880-d18490b7ce3c"
      },
      "source": [
        "kmeans = KMeans(n_clusters=2)\n",
        "kmeans.fit(D)\n"
      ],
      "execution_count": 158,
      "outputs": [
        {
          "output_type": "execute_result",
          "data": {
            "text/plain": [
              "KMeans(algorithm='auto', copy_x=True, init='k-means++', max_iter=300,\n",
              "       n_clusters=2, n_init=10, n_jobs=None, precompute_distances='auto',\n",
              "       random_state=None, tol=0.0001, verbose=0)"
            ]
          },
          "metadata": {
            "tags": []
          },
          "execution_count": 158
        }
      ]
    },
    {
      "cell_type": "markdown",
      "metadata": {
        "id": "kn-ME8OAbJKm"
      },
      "source": [
        "**Obtain centroids and labels as parameters**\n"
      ]
    },
    {
      "cell_type": "code",
      "metadata": {
        "colab": {
          "base_uri": "https://localhost:8080/"
        },
        "id": "O9xpqtF53cri",
        "outputId": "a443021e-45ef-4878-e1f4-f55de70868e0"
      },
      "source": [
        "centroids = kmeans.cluster_centers_\n",
        "label = kmeans.labels_\n",
        "print (\"Cluster Centers are :\", centroids)\n",
        "print (\"Labels :\", label)"
      ],
      "execution_count": 159,
      "outputs": [
        {
          "output_type": "stream",
          "text": [
            "Cluster Centers are : [[6.4   7.8  ]\n",
            " [5.375 1.7  ]]\n",
            "Labels : [1 0 1 0 0 1 0 1 0]\n"
          ],
          "name": "stdout"
        }
      ]
    },
    {
      "cell_type": "markdown",
      "metadata": {
        "id": "igp6tP2lbNgD"
      },
      "source": [
        "**Plotting the data and their clusters**\n"
      ]
    },
    {
      "cell_type": "code",
      "metadata": {
        "colab": {
          "base_uri": "https://localhost:8080/",
          "height": 347
        },
        "id": "tAN2indD6Y2g",
        "outputId": "8d4efb11-754d-46b1-cf72-28b80be5f824"
      },
      "source": [
        "colours = ['m.','g.','r.', 'k.']\n",
        "for i in range(len(D)):\n",
        "    #print \"Coordinates \", D[i], \"labels\", label[i]\n",
        "    plot.plot(D[i][0], D[i][1], colours[label[i]], markersize = 15 )\n",
        "for i in range(len(centroids)):\n",
        "    plot.plot(centroids[i][0], centroids[i][1], colours[i], markersize = 20, marker='*' )\n",
        "plot.show()"
      ],
      "execution_count": 160,
      "outputs": [
        {
          "output_type": "display_data",
          "data": {
            "image/png": "[encoded data removed]",
            "text/plain": [
              "<Figure size 576x396 with 1 Axes>"
            ]
          },
          "metadata": {
            "tags": []
          }
        }
      ]
    },
    {
      "cell_type": "markdown",
      "metadata": {
        "id": "CmWqTzhpdZNq"
      },
      "source": [
        "**Calculate the cluster goodness**\n"
      ]
    },
    {
      "cell_type": "code",
      "metadata": {
        "colab": {
          "base_uri": "https://localhost:8080/"
        },
        "id": "GWscgKeq68C3",
        "outputId": "4ac5f87b-90d2-4e91-96f4-7ac3259884af"
      },
      "source": [
        "Sil_score=silhouette_score(D,label)\n",
        "print (\"Silhouette Score: \", Sil_score)"
      ],
      "execution_count": 161,
      "outputs": [
        {
          "output_type": "stream",
          "text": [
            "Silhouette Score:  0.33796436328535506\n"
          ],
          "name": "stdout"
        }
      ]
    },
    {
      "cell_type": "markdown",
      "metadata": {
        "id": "0twbrblCdmDH"
      },
      "source": [
        "**Import data sets**"
      ]
    },
    {
      "cell_type": "code",
      "metadata": {
        "colab": {
          "resources": {
            "http://localhost:8080/nbextensions/google.colab/files.js": {
              "data": "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",
              "ok": true,
              "headers": [
                [
                  "content-type",
                  "application/javascript"
                ]
              ],
              "status": 200,
              "status_text": ""
            }
          },
          "base_uri": "https://localhost:8080/",
          "height": 174
        },
        "id": "IGqLo39e8TAC",
        "outputId": "843458f3-b277-4e05-a0d7-712d584fb16e"
      },
      "source": [
        "from google.colab import files\n",
        "uploaded = files.upload()\n"
      ],
      "execution_count": 90,
      "outputs": [
        {
          "output_type": "display_data",
          "data": {
            "text/html": [
              "\n",
              "     <input type=\"file\" id=\"files-3649a8ab-8076-4ca4-92d8-9f45b555571a\" name=\"files[]\" multiple disabled\n",
              "        style=\"border:none\" />\n",
              "     <output id=\"result-3649a8ab-8076-4ca4-92d8-9f45b555571a\">\n",
              "      Upload widget is only available when the cell has been executed in the\n",
              "      current browser session. Please rerun this cell to enable.\n",
              "      </output>\n",
              "      <script src=\"/nbextensions/google.colab/files.js\"></script> "
            ],
            "text/plain": [
              "<IPython.core.display.HTML object>"
            ]
          },
          "metadata": {
            "tags": []
          }
        },
        {
          "output_type": "stream",
          "text": [
            "Saving iris_org.txt to iris_org (2).txt\n",
            "Saving 21D_data.txt to 21D_data (2).txt\n",
            "Saving 4D_data.txt to 4D_data (2).txt\n",
            "Saving 2D_data.txt to 2D_data (2).txt\n"
          ],
          "name": "stdout"
        }
      ]
    },
    {
      "cell_type": "markdown",
      "metadata": {
        "id": "8AfA1eMMeSwB"
      },
      "source": [
        "**Now we will load unlabeled data from file. Preprocessing the data from the file is the main task. All the remaining part is same as previous method**"
      ]
    },
    {
      "cell_type": "code",
      "metadata": {
        "id": "XRjUcf95_a2S"
      },
      "source": [
        "\n",
        "read_file=open(\"21D_data.txt\",'r')\n",
        "read_content= read_file.read()"
      ],
      "execution_count": 162,
      "outputs": []
    },
    {
      "cell_type": "markdown",
      "metadata": {
        "id": "Ue25tM27ecFf"
      },
      "source": [
        "**Total number of data points and number of features/samples for each data point**\n"
      ]
    },
    {
      "cell_type": "code",
      "metadata": {
        "colab": {
          "base_uri": "https://localhost:8080/"
        },
        "id": "UtMasj4F_slA",
        "outputId": "a48208e6-5312-42de-acfd-6f6f322d2084"
      },
      "source": [
        "\n",
        "all_data= read_content.splitlines()\n",
        "No_data_points=len(all_data)\n",
        "print (\"Number of the data points :- \", No_data_points)\n",
        "features = all_data[0].split(\"\\t\")\n",
        "No_of_features = len(features)\n",
        "print (\"Number the features/samples :- \", No_of_features)"
      ],
      "execution_count": 163,
      "outputs": [
        {
          "output_type": "stream",
          "text": [
            "Number of the data points :-  500\n",
            "Number the features/samples :-  21\n"
          ],
          "name": "stdout"
        }
      ]
    },
    {
      "cell_type": "markdown",
      "metadata": {
        "id": "YGDvQUQ0e_e3"
      },
      "source": [
        "**Loading the whole dataset in a 2D matrix**"
      ]
    },
    {
      "cell_type": "code",
      "metadata": {
        "colab": {
          "base_uri": "https://localhost:8080/"
        },
        "id": "DQx3v7AjAblB",
        "outputId": "66b4f27c-7bc4-43d7-e0e2-232b83193ce5"
      },
      "source": [
        "D=np.zeros((No_data_points,No_of_features))\n",
        "counter = 0\n",
        "for lines in all_data:\n",
        "    values=lines.split('\\t')\n",
        "    for i in range(0,No_of_features):\n",
        "        D[counter][i]= values[i]\n",
        "    counter+=1\n",
        "    \n",
        "print (D) "
      ],
      "execution_count": 164,
      "outputs": [
        {
          "output_type": "stream",
          "text": [
            "[[ 357.7  371.2  404.6 ...  414.5  240.7  372.2]\n",
            " [  20.9   18.5   10.8 ...   44.3   14.8   15.6]\n",
            " [   4.7   18.9   17.6 ...    7.2    3.6    6.1]\n",
            " ...\n",
            " [ 703.2  383.3  562.  ... 1699.7  654.9  461.9]\n",
            " [  11.5   18.    10.1 ...   13.5   13.4   14.1]\n",
            " [ 504.3  839.3  330.4 ...  235.   380.8  428.5]]\n"
          ],
          "name": "stdout"
        }
      ]
    },
    {
      "cell_type": "markdown",
      "metadata": {
        "id": "zTkNrJuGfF45"
      },
      "source": [
        "**Call the Kmeans function and train the data**\n"
      ]
    },
    {
      "cell_type": "code",
      "metadata": {
        "colab": {
          "base_uri": "https://localhost:8080/"
        },
        "id": "2PoZUsxaA5VQ",
        "outputId": "9e82aef1-264a-4984-a8c3-6f2cc0ffafc8"
      },
      "source": [
        "kmeans = KMeans(n_clusters=3)\n",
        "kmeans.fit(D)"
      ],
      "execution_count": 165,
      "outputs": [
        {
          "output_type": "execute_result",
          "data": {
            "text/plain": [
              "KMeans(algorithm='auto', copy_x=True, init='k-means++', max_iter=300,\n",
              "       n_clusters=3, n_init=10, n_jobs=None, precompute_distances='auto',\n",
              "       random_state=None, tol=0.0001, verbose=0)"
            ]
          },
          "metadata": {
            "tags": []
          },
          "execution_count": 165
        }
      ]
    },
    {
      "cell_type": "markdown",
      "metadata": {
        "id": "eZJ1Y38VfPHW"
      },
      "source": [
        "**Obtain centroids and labels**\n"
      ]
    },
    {
      "cell_type": "code",
      "metadata": {
        "colab": {
          "base_uri": "https://localhost:8080/"
        },
        "id": "06xkGF_pA8nW",
        "outputId": "c0f88044-305a-45cf-b4d6-5fae513fabf2"
      },
      "source": [
        "centroids = kmeans.cluster_centers_\n",
        "label = kmeans.labels_\n",
        "print (\"Cluster Centers are :\", centroids)\n",
        "print (\"Labels :\", label)"
      ],
      "execution_count": 166,
      "outputs": [
        {
          "output_type": "stream",
          "text": [
            "Cluster Centers are : [[  126.78957055   118.72862986   118.86687117   130.51390593\n",
            "    119.87300613   126.54253579   126.39284254   122.93292434\n",
            "    119.83578732   133.04171779   131.44928425   145.08752556\n",
            "    124.49427403   122.84171779   119.61574642   118.92883436\n",
            "    113.27770961   126.30470348   129.50552147   115.08200409\n",
            "    114.14519427]\n",
            " [12283.1         8427.3        11576.4         8236.3\n",
            "  10226.7         9297.          6623.3        13206.1\n",
            "  14856.4        22455.6        24571.8        14619.7\n",
            "  11570.2        11831.6         9701.4         6557.3\n",
            "  13441.8        10739.7        16926.6        13262.2\n",
            "  12812.8       ]\n",
            " [ 3385.92        2715.45        3273.3         2637.14\n",
            "   2884.79        2886.12        2623.68        2955.49\n",
            "   3654.21        3332.2         3886.72        3782.35\n",
            "   3302.1         3059.78        2699.08        2622.15\n",
            "   3692.67        3419.53        3221.23        2933.65\n",
            "   3586.99      ]]\n",
            "Labels : [0 0 0 0 0 0 0 0 2 0 0 0 0 0 0 0 0 0 0 0 0 0 0 0 0 0 0 0 0 0 0 0 0 0 0 0 0\n",
            " 0 0 0 0 0 0 0 0 0 0 0 0 0 0 0 0 0 0 0 0 0 0 0 0 0 0 0 0 0 0 0 0 0 0 0 0 0\n",
            " 0 0 0 0 0 0 0 0 0 0 0 0 0 0 0 0 0 0 0 0 0 0 0 0 0 0 0 0 0 0 0 0 0 0 0 0 0\n",
            " 0 0 0 0 2 0 0 0 0 0 0 0 0 0 0 0 0 0 0 0 0 0 0 0 0 0 0 0 0 0 0 0 0 0 0 0 0\n",
            " 0 0 0 0 0 0 0 0 0 0 0 0 0 0 0 0 0 0 0 0 0 0 0 0 0 0 0 0 0 2 0 0 0 0 0 0 0\n",
            " 0 0 0 0 0 0 0 0 0 0 0 0 0 2 0 0 0 0 0 0 0 0 0 0 0 0 0 0 0 0 0 0 0 0 0 0 0\n",
            " 0 0 0 0 0 0 0 0 0 0 0 0 0 0 0 0 0 0 0 0 0 0 0 0 0 0 0 0 0 0 0 0 0 2 0 0 0\n",
            " 0 0 0 0 0 0 0 0 0 0 0 0 0 0 0 0 0 0 0 0 0 0 0 0 0 0 0 0 0 0 0 0 0 0 0 0 0\n",
            " 0 0 0 0 0 0 0 0 0 0 0 0 0 0 1 0 0 0 0 0 0 0 0 0 0 0 0 0 0 0 0 0 0 0 0 0 0\n",
            " 0 0 0 0 0 2 0 0 0 0 0 0 0 0 2 0 0 0 0 0 0 0 0 0 0 0 0 0 0 0 0 0 0 0 0 0 0\n",
            " 0 0 0 0 0 0 0 0 0 0 0 0 0 0 0 0 0 0 0 0 0 0 0 2 2 0 0 0 0 0 0 0 0 0 0 0 0\n",
            " 0 0 0 0 0 0 0 0 0 0 0 0 0 0 0 0 0 0 0 0 0 0 0 0 0 0 0 0 0 0 0 0 0 0 0 0 0\n",
            " 0 0 0 0 0 0 0 0 0 2 0 0 0 0 0 0 0 0 0 0 0 0 0 0 0 0 0 0 0 0 0 0 0 0 0 0 0\n",
            " 0 0 0 0 0 0 0 0 0 0 0 0 0 0 0 0 0 0 0]\n"
          ],
          "name": "stdout"
        }
      ]
    },
    {
      "cell_type": "markdown",
      "metadata": {
        "id": "UwALfCclhIRn"
      },
      "source": [
        "**Plotting the data and their clusters**\n"
      ]
    },
    {
      "cell_type": "code",
      "metadata": {
        "colab": {
          "base_uri": "https://localhost:8080/",
          "height": 347
        },
        "id": "iq5bKSxUBLoU",
        "outputId": "c10b79f0-ca2c-4ee1-d2ad-b2a22b3246a5"
      },
      "source": [
        "colours = ['m.','g.','r.', 'k.']\n",
        "for i in range(len(D)):\n",
        "    #print \"Coordinates \", D[i], \"labels\", label[i]\n",
        "    plot.plot(D[i][0], D[i][1], colours[label[i]], markersize = 10 )\n",
        "for i in range(len(centroids)):\n",
        "    plot.plot(centroids[i][0], centroids[i][1], colours[i], markersize = 12, marker='*' )\n",
        "plot.show()"
      ],
      "execution_count": 167,
      "outputs": [
        {
          "output_type": "display_data",
          "data": {
            "image/png": "[encoded data removed]",
            "text/plain": [
              "<Figure size 576x396 with 1 Axes>"
            ]
          },
          "metadata": {
            "tags": []
          }
        }
      ]
    },
    {
      "cell_type": "markdown",
      "metadata": {
        "id": "ES9EZKdAzorF"
      },
      "source": [
        "***How to find the optimal number of K, number of clusters (ELBOW Method)***\n",
        "\n",
        "***Cost function distortion is defind as the average of the squared distances of samples to its cluster centers ***"
      ]
    },
    {
      "cell_type": "code",
      "metadata": {
        "colab": {
          "base_uri": "https://localhost:8080/",
          "height": 721
        },
        "id": "_C8LgsnnznJA",
        "outputId": "e5aaaefc-8de6-4cbd-c4f3-60595ae16c3d"
      },
      "source": [
        "from sklearn import metrics\n",
        "from scipy.spatial.distance import cdist\n",
        "\n",
        "d1 = np.array([3, 1, 1, 2, 1, 6, 6, 6, 5, 6, 7, 8, 9, 8, 9, 9, 8])\n",
        "d2 = np.array([5, 4, 5, 6, 5, 8, 6, 7, 6, 7, 1, 2, 1, 2, 3, 2, 3])\n",
        "\n",
        "plot.plot()\n",
        "plot.xlim([0, 10])\n",
        "plot.ylim([0, 10])\n",
        "plot.title('Dataset')\n",
        "plot.scatter(d1, d2)\n",
        "plot.show()\n",
        "\n",
        "# create new plot and data\n",
        "plot.plot()\n",
        "D = np.array(list(zip(d1, d2))).reshape(len(d1), 2)\n",
        "colors = ['b', 'g', 'r']\n",
        "markers = ['o', 'v', 's']\n",
        "\n",
        "# k means determine k\n",
        "distortions = []\n",
        "K = range(1,10)\n",
        "for k in K:\n",
        "    kmeanModel = KMeans(n_clusters=k).fit(D)\n",
        "    kmeanModel.fit(D)\n",
        "    distortions.append(sum(np.min(cdist(D, kmeanModel.cluster_centers_, 'euclidean'), axis=1)) / D.shape[0])\n",
        "\n",
        "# Plot the elbow\n",
        "plot.plot(K, distortions, 'bx-')\n",
        "plot.xlabel('k')\n",
        "plot.ylabel('Distortion')\n",
        "plot.title('The Elbow Method showing the optimal k')\n",
        "plot.show()"
      ],
      "execution_count": 168,
      "outputs": [
        {
          "output_type": "display_data",
          "data": {
            "image/png": "[encoded data removed]",
            "text/plain": [
              "<Figure size 576x396 with 1 Axes>"
            ]
          },
          "metadata": {
            "tags": []
          }
        },
        {
          "output_type": "display_data",
          "data": {
            "image/png": "[encoded data removed]",
            "text/plain": [
              "<Figure size 576x396 with 1 Axes>"
            ]
          },
          "metadata": {
            "tags": []
          }
        }
      ]
    },
    {
      "cell_type": "markdown",
      "metadata": {
        "id": "r3p8PytRoWcQ"
      },
      "source": [
        "**Considering the iris data set**"
      ]
    },
    {
      "cell_type": "code",
      "metadata": {
        "id": "jGrLcjRHCpPO"
      },
      "source": [
        "read_file=open(\"iris_org.txt\",'r')\n",
        "read_content= read_file.read()"
      ],
      "execution_count": 169,
      "outputs": []
    },
    {
      "cell_type": "markdown",
      "metadata": {
        "id": "OebzdZ1vojFf"
      },
      "source": [
        "**Number of data points and number of features/samples for each data point**\n"
      ]
    },
    {
      "cell_type": "code",
      "metadata": {
        "colab": {
          "base_uri": "https://localhost:8080/"
        },
        "id": "PFTOJj78DH-Y",
        "outputId": "a69fab61-0147-4e8d-d443-07ba8465242e"
      },
      "source": [
        "all_data= read_content.splitlines()\n",
        "No_data_points=len(all_data)\n",
        "print (\"Number of the data points :- \", No_data_points)\n",
        "features = all_data[0].split(\"\\t\")\n",
        "No_of_features = len(features)-1\n",
        "print (\"Number the features/samples :- \", No_of_features)"
      ],
      "execution_count": 170,
      "outputs": [
        {
          "output_type": "stream",
          "text": [
            "Number of the data points :-  150\n",
            "Number the features/samples :-  4\n"
          ],
          "name": "stdout"
        }
      ]
    },
    {
      "cell_type": "markdown",
      "metadata": {
        "id": "WQd-q9YootPp"
      },
      "source": [
        "**Loading the dataset in a 2D matrix**"
      ]
    },
    {
      "cell_type": "code",
      "metadata": {
        "id": "W9CvCZAJDWX1"
      },
      "source": [
        "D=np.zeros((No_data_points,No_of_features))\n",
        "true_label = []\n",
        "counter = 0\n",
        "for lines in all_data:\n",
        "    values=lines.split('\\t')\n",
        "    for i in range(0,No_of_features):\n",
        "        D[counter][i]= values[i]\n",
        "    true_label.append(int(values[No_of_features]))     #\n",
        "    counter+=1\n",
        "#print (D)\n"
      ],
      "execution_count": 171,
      "outputs": []
    },
    {
      "cell_type": "markdown",
      "metadata": {
        "id": "eTsLbsFrrPf4"
      },
      "source": [
        "**Finding optimal value of K for iris data set**"
      ]
    },
    {
      "cell_type": "code",
      "metadata": {
        "colab": {
          "base_uri": "https://localhost:8080/",
          "height": 376
        },
        "id": "NhM6gchr5pCA",
        "outputId": "0a656455-6cd6-40ec-fb42-537fa59f3f09"
      },
      "source": [
        "# k means determine k\n",
        "distortions = []\n",
        "K = range(1,10)\n",
        "for k in K:\n",
        "    kmeanModel = KMeans(n_clusters=k).fit(D)\n",
        "    kmeanModel.fit(D)\n",
        "    distortions.append(sum(np.min(cdist(D, kmeanModel.cluster_centers_, 'euclidean'), axis=1)) / D.shape[0])\n",
        "\n",
        "# Plot the elbow\n",
        "plot.plot(K, distortions, 'bx-')\n",
        "plot.xlabel('k')\n",
        "plot.ylabel('Distortion')\n",
        "plot.title('The Elbow Method showing the optimal k')\n",
        "plot.show()"
      ],
      "execution_count": 172,
      "outputs": [
        {
          "output_type": "display_data",
          "data": {
            "image/png": "[encoded data removed]",
            "text/plain": [
              "<Figure size 576x396 with 1 Axes>"
            ]
          },
          "metadata": {
            "tags": []
          }
        }
      ]
    },
    {
      "cell_type": "markdown",
      "metadata": {
        "id": "gxe3I9UkrXYZ"
      },
      "source": [
        "**Clustering iris data set with optimal value of K as 3**"
      ]
    },
    {
      "cell_type": "code",
      "metadata": {
        "colab": {
          "base_uri": "https://localhost:8080/"
        },
        "id": "u7TAzxEvDbmC",
        "outputId": "f29616fc-7cb7-4d5f-f01c-091b8de3d54a"
      },
      "source": [
        "kmeans = KMeans(n_clusters=3)\n",
        "kmeans.fit(D)\n",
        "centroids = kmeans.cluster_centers_\n",
        "label = kmeans.labels_\n",
        "print (\"Cluster Centers are :\", centroids)\n",
        "print (\"Labels :\", label)"
      ],
      "execution_count": 173,
      "outputs": [
        {
          "output_type": "stream",
          "text": [
            "Cluster Centers are : [[6.85       3.07368421 5.74210526 2.07105263]\n",
            " [5.006      3.428      1.462      0.246     ]\n",
            " [5.9016129  2.7483871  4.39354839 1.43387097]]\n",
            "Labels : [1 2 0 1 2 2 1 0 0 1 2 0 1 2 0 1 2 0 1 2 2 1 2 0 1 2 0 1 2 0 1 2 0 1 2 0 1\n",
            " 2 0 1 2 2 1 2 2 1 2 0 1 2 0 1 2 0 1 2 0 1 2 2 1 2 0 1 2 2 1 2 0 1 2 2 1 2\n",
            " 0 1 2 0 1 2 2 1 0 2 1 2 0 1 2 0 1 2 0 1 2 0 1 2 0 1 2 2 1 2 0 1 2 0 1 2 0\n",
            " 1 2 0 1 2 2 1 2 0 1 2 0 1 2 0 1 2 2 1 2 0 1 2 0 1 2 0 1 2 2 1 2 0 1 2 0 1\n",
            " 2 2]\n"
          ],
          "name": "stdout"
        }
      ]
    },
    {
      "cell_type": "markdown",
      "metadata": {
        "id": "0tUnCKdGsnuf"
      },
      "source": [
        "**Clustered iris data set**"
      ]
    },
    {
      "cell_type": "code",
      "metadata": {
        "id": "XSZH9xI3Dwp9",
        "colab": {
          "base_uri": "https://localhost:8080/",
          "height": 349
        },
        "outputId": "413c5fff-f82f-4da3-df0d-2469d4cfd0f2"
      },
      "source": [
        "import matplotlib.pyplot as plot\n",
        "colours = ['r.', 'k.','b.','m.','g.']\n",
        "for i in range(len(D)):\n",
        "    plot.plot(D[i][0], D[i][1], colours[label[i]], markersize = 10 )\n",
        "for i in range(len(centroids)):\n",
        "    plot.plot(centroids[i][0], centroids[i][1], colours[i], markersize = 12, marker='*' )\n",
        "plot.show()"
      ],
      "execution_count": 174,
      "outputs": [
        {
          "output_type": "display_data",
          "data": {
            "image/png": "[encoded data removed]",
            "text/plain": [
              "<Figure size 576x396 with 1 Axes>"
            ]
          },
          "metadata": {
            "tags": []
          }
        }
      ]
    },
    {
      "cell_type": "markdown",
      "metadata": {
        "id": "F0j_6x_lsmPV"
      },
      "source": [
        "**Calculate the cluster goodness**\n"
      ]
    },
    {
      "cell_type": "code",
      "metadata": {
        "colab": {
          "base_uri": "https://localhost:8080/"
        },
        "id": "f86P8-7ktBF2",
        "outputId": "5eb8c4b2-29e7-4be3-b793-8c1f21524e4b"
      },
      "source": [
        "Sil_score=silhouette_score(D,label)\n",
        "print (\"Silhouette Score: \", Sil_score)"
      ],
      "execution_count": 176,
      "outputs": [
        {
          "output_type": "stream",
          "text": [
            "Silhouette Score:  0.5528190123564091\n"
          ],
          "name": "stdout"
        }
      ]
    },
    {
      "cell_type": "markdown",
      "metadata": {
        "id": "tC_HJxpxvMNt"
      },
      "source": [
        "**Calculate the cluster goodness (Considering true label information)**"
      ]
    },
    {
      "cell_type": "code",
      "metadata": {
        "colab": {
          "base_uri": "https://localhost:8080/"
        },
        "id": "KiGF8Pv0u3Td",
        "outputId": "6b2b7c1c-f743-4ec2-8478-04f0d8b331e9"
      },
      "source": [
        "ARI=metrics.adjusted_rand_score(true_label, label)\n",
        "print (ARI)"
      ],
      "execution_count": 149,
      "outputs": [
        {
          "output_type": "stream",
          "text": [
            "0.7302382722834697\n"
          ],
          "name": "stdout"
        }
      ]
    },
    {
      "cell_type": "markdown",
      "metadata": {
        "id": "PYPFXLvnwyw5"
      },
      "source": [
        "**Cases when K-means doesn't perfom well**"
      ]
    },
    {
      "cell_type": "code",
      "metadata": {
        "colab": {
          "base_uri": "https://localhost:8080/",
          "height": 464
        },
        "id": "M3tYFAibw_AX",
        "outputId": "4bba85b3-3a89-495c-c6c0-008f8f5f2b97"
      },
      "source": [
        "import pandas as pd\n",
        "import pandas_datareader.data as web\n",
        "import matplotlib as mpl\n",
        "from sklearn.datasets import make_moons\n",
        "\n",
        "random_state = 21\n",
        "D, Y= make_moons(150, noise=.07, random_state=random_state)\n",
        "cmap = 'viridis'\n",
        "dot_size=50\n",
        "fig, ax = plt.subplots(figsize=(9,7))\n",
        "ax.set_title('Data with ground truth labels - linear separation not possible', fontsize=18, fontweight='demi')\n",
        "ax.scatter(D[:, 0], D[:, 1],c=Y,s=dot_size, cmap=cmap)"
      ],
      "execution_count": 177,
      "outputs": [
        {
          "output_type": "execute_result",
          "data": {
            "text/plain": [
              "<matplotlib.collections.PathCollection at 0x7fd7a9220a58>"
            ]
          },
          "metadata": {
            "tags": []
          },
          "execution_count": 177
        },
        {
          "output_type": "display_data",
          "data": {
            "image/png": "[encoded data removed]",
            "text/plain": [
              "<Figure size 648x504 with 1 Axes>"
            ]
          },
          "metadata": {
            "tags": []
          }
        }
      ]
    },
    {
      "cell_type": "markdown",
      "metadata": {
        "id": "zSc-TDUbyICp"
      },
      "source": [
        "**K-Means Algorithm in Moon shape data set**"
      ]
    },
    {
      "cell_type": "code",
      "metadata": {
        "colab": {
          "base_uri": "https://localhost:8080/",
          "height": 347
        },
        "id": "AWhYHTzuyJ8h",
        "outputId": "c32fce97-3436-44d7-db64-13c2bd6e7066"
      },
      "source": [
        "kmeans = KMeans(n_clusters=2)\n",
        "kmeans.fit(D)\n",
        "label = kmeans.labels_\n",
        "colours = ['m.','g.','r.', 'k.']\n",
        "for i in range(len(D)):\n",
        "    plot.plot(D[i][0], D[i][1], colours[label[i]], markersize = 10 )"
      ],
      "execution_count": 178,
      "outputs": [
        {
          "output_type": "display_data",
          "data": {
            "image/png": "[encoded data removed]",
            "text/plain": [
              "<Figure size 576x396 with 1 Axes>"
            ]
          },
          "metadata": {
            "tags": []
          }
        }
      ]
    }
  ]
}