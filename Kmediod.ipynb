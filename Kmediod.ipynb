{
  "nbformat": 4,
  "nbformat_minor": 0,
  "metadata": {
    "colab": {
      "name": "Kmediod.ipynb",
      "provenance": []
    },
    "kernelspec": {
      "name": "python3",
      "display_name": "Python 3"
    }
  },
  "cells": [
    {
      "cell_type": "code",
      "metadata": {
        "colab": {
          "base_uri": "https://localhost:8080/"
        },
        "id": "5liE9MxEjlRa",
        "outputId": "472944ba-43ed-401f-efed-e36fb63ca498"
      },
      "source": [
        "pip install scikit-learn-extra"
      ],
      "execution_count": 1,
      "outputs": [
        {
          "output_type": "stream",
          "text": [
            "Collecting scikit-learn-extra\n",
            "\u001b[?25l  Downloading https://files.pythonhosted.org/packages/d1/dd/891d2ee7bd18af8f2e1df5d63a52ee96edd0eacc21bb9627072b1c5f6a6c/scikit-learn-extra-0.1.0b2.tar.gz (615kB)\n",
            "\r\u001b[K     |▌                               | 10kB 16.7MB/s eta 0:00:01\r\u001b[K     |█                               | 20kB 16.5MB/s eta 0:00:01\r\u001b[K     |█▋                              | 30kB 18.2MB/s eta 0:00:01\r\u001b[K     |██▏                             | 40kB 21.1MB/s eta 0:00:01\r\u001b[K     |██▋                             | 51kB 3.7MB/s eta 0:00:01\r\u001b[K     |███▏                            | 61kB 4.3MB/s eta 0:00:01\r\u001b[K     |███▊                            | 71kB 4.9MB/s eta 0:00:01\r\u001b[K     |████▎                           | 81kB 5.5MB/s eta 0:00:01\r\u001b[K     |████▉                           | 92kB 6.1MB/s eta 0:00:01\r\u001b[K     |█████▎                          | 102kB 3.9MB/s eta 0:00:01\r\u001b[K     |█████▉                          | 112kB 3.9MB/s eta 0:00:01\r\u001b[K     |██████▍                         | 122kB 3.9MB/s eta 0:00:01\r\u001b[K     |███████                         | 133kB 3.9MB/s eta 0:00:01\r\u001b[K     |███████▌                        | 143kB 3.9MB/s eta 0:00:01\r\u001b[K     |████████                        | 153kB 3.9MB/s eta 0:00:01\r\u001b[K     |████████▌                       | 163kB 3.9MB/s eta 0:00:01\r\u001b[K     |█████████                       | 174kB 3.9MB/s eta 0:00:01\r\u001b[K     |█████████▋                      | 184kB 3.9MB/s eta 0:00:01\r\u001b[K     |██████████▏                     | 194kB 3.9MB/s eta 0:00:01\r\u001b[K     |██████████▋                     | 204kB 3.9MB/s eta 0:00:01\r\u001b[K     |███████████▏                    | 215kB 3.9MB/s eta 0:00:01\r\u001b[K     |███████████▊                    | 225kB 3.9MB/s eta 0:00:01\r\u001b[K     |████████████▎                   | 235kB 3.9MB/s eta 0:00:01\r\u001b[K     |████████████▉                   | 245kB 3.9MB/s eta 0:00:01\r\u001b[K     |█████████████▎                  | 256kB 3.9MB/s eta 0:00:01\r\u001b[K     |█████████████▉                  | 266kB 3.9MB/s eta 0:00:01\r\u001b[K     |██████████████▍                 | 276kB 3.9MB/s eta 0:00:01\r\u001b[K     |███████████████                 | 286kB 3.9MB/s eta 0:00:01\r\u001b[K     |███████████████▌                | 296kB 3.9MB/s eta 0:00:01\r\u001b[K     |████████████████                | 307kB 3.9MB/s eta 0:00:01\r\u001b[K     |████████████████▌               | 317kB 3.9MB/s eta 0:00:01\r\u001b[K     |█████████████████               | 327kB 3.9MB/s eta 0:00:01\r\u001b[K     |█████████████████▋              | 337kB 3.9MB/s eta 0:00:01\r\u001b[K     |██████████████████              | 348kB 3.9MB/s eta 0:00:01\r\u001b[K     |██████████████████▋             | 358kB 3.9MB/s eta 0:00:01\r\u001b[K     |███████████████████▏            | 368kB 3.9MB/s eta 0:00:01\r\u001b[K     |███████████████████▊            | 378kB 3.9MB/s eta 0:00:01\r\u001b[K     |████████████████████▎           | 389kB 3.9MB/s eta 0:00:01\r\u001b[K     |████████████████████▊           | 399kB 3.9MB/s eta 0:00:01\r\u001b[K     |█████████████████████▎          | 409kB 3.9MB/s eta 0:00:01\r\u001b[K     |█████████████████████▉          | 419kB 3.9MB/s eta 0:00:01\r\u001b[K     |██████████████████████▍         | 430kB 3.9MB/s eta 0:00:01\r\u001b[K     |███████████████████████         | 440kB 3.9MB/s eta 0:00:01\r\u001b[K     |███████████████████████▍        | 450kB 3.9MB/s eta 0:00:01\r\u001b[K     |████████████████████████        | 460kB 3.9MB/s eta 0:00:01\r\u001b[K     |████████████████████████▌       | 471kB 3.9MB/s eta 0:00:01\r\u001b[K     |█████████████████████████       | 481kB 3.9MB/s eta 0:00:01\r\u001b[K     |█████████████████████████▋      | 491kB 3.9MB/s eta 0:00:01\r\u001b[K     |██████████████████████████      | 501kB 3.9MB/s eta 0:00:01\r\u001b[K     |██████████████████████████▋     | 512kB 3.9MB/s eta 0:00:01\r\u001b[K     |███████████████████████████▏    | 522kB 3.9MB/s eta 0:00:01\r\u001b[K     |███████████████████████████▊    | 532kB 3.9MB/s eta 0:00:01\r\u001b[K     |████████████████████████████▎   | 542kB 3.9MB/s eta 0:00:01\r\u001b[K     |████████████████████████████▊   | 552kB 3.9MB/s eta 0:00:01\r\u001b[K     |█████████████████████████████▎  | 563kB 3.9MB/s eta 0:00:01\r\u001b[K     |█████████████████████████████▉  | 573kB 3.9MB/s eta 0:00:01\r\u001b[K     |██████████████████████████████▍ | 583kB 3.9MB/s eta 0:00:01\r\u001b[K     |███████████████████████████████ | 593kB 3.9MB/s eta 0:00:01\r\u001b[K     |███████████████████████████████▍| 604kB 3.9MB/s eta 0:00:01\r\u001b[K     |████████████████████████████████| 614kB 3.9MB/s eta 0:00:01\r\u001b[K     |████████████████████████████████| 624kB 3.9MB/s \n",
            "\u001b[?25h  Installing build dependencies ... \u001b[?25l\u001b[?25hdone\n",
            "  Getting requirements to build wheel ... \u001b[?25l\u001b[?25hdone\n",
            "    Preparing wheel metadata ... \u001b[?25l\u001b[?25hdone\n",
            "Requirement already satisfied: scikit-learn>=0.21.0 in /usr/local/lib/python3.6/dist-packages (from scikit-learn-extra) (0.22.2.post1)\n",
            "Requirement already satisfied: numpy>=1.13.3 in /usr/local/lib/python3.6/dist-packages (from scikit-learn-extra) (1.19.4)\n",
            "Requirement already satisfied: scipy>=0.19.1 in /usr/local/lib/python3.6/dist-packages (from scikit-learn-extra) (1.4.1)\n",
            "Requirement already satisfied: joblib>=0.11 in /usr/local/lib/python3.6/dist-packages (from scikit-learn>=0.21.0->scikit-learn-extra) (1.0.0)\n",
            "Building wheels for collected packages: scikit-learn-extra\n",
            "  Building wheel for scikit-learn-extra (PEP 517) ... \u001b[?25l\u001b[?25hdone\n",
            "  Created wheel for scikit-learn-extra: filename=scikit_learn_extra-0.1.0b2-cp36-cp36m-linux_x86_64.whl size=339571 sha256=bce95549bbe2a6dda879ef693e602fc9da4de09ed4993d90ad1293b249138258\n",
            "  Stored in directory: /root/.cache/pip/wheels/04/01/0f/943bffb48bac048fa216b4325f1a6c939491ccb0ff500e08f4\n",
            "Successfully built scikit-learn-extra\n",
            "Installing collected packages: scikit-learn-extra\n",
            "Successfully installed scikit-learn-extra-0.1.0b2\n"
          ],
          "name": "stdout"
        }
      ]
    },
    {
      "cell_type": "markdown",
      "metadata": {
        "id": "H3FdpVqAmQv6"
      },
      "source": [
        "**Importing Kmeans function from sklearn package**\n"
      ]
    },
    {
      "cell_type": "code",
      "metadata": {
        "id": "H0KgRkrzjwfV"
      },
      "source": [
        "from sklearn_extra.cluster import KMedoids\n",
        "import numpy as np"
      ],
      "execution_count": 26,
      "outputs": []
    },
    {
      "cell_type": "markdown",
      "metadata": {
        "id": "g6oPVtrZmeCd"
      },
      "source": [
        "**Load the 2D data as an user input**"
      ]
    },
    {
      "cell_type": "code",
      "metadata": {
        "id": "wCuLhjDRj1T3"
      },
      "source": [
        "X = np.asarray([[1, 9], [1, 4], [1, 0], [4, 2], [4, 4], [4, 0]])"
      ],
      "execution_count": 3,
      "outputs": []
    },
    {
      "cell_type": "markdown",
      "metadata": {
        "id": "8jYE9_mhmjAy"
      },
      "source": [
        "**Call the Kmediod function and train the data**"
      ]
    },
    {
      "cell_type": "code",
      "metadata": {
        "id": "RETmqUB6j4gM"
      },
      "source": [
        "kmedoids = KMedoids(n_clusters=2, random_state=0).fit(X)"
      ],
      "execution_count": 27,
      "outputs": []
    },
    {
      "cell_type": "markdown",
      "metadata": {
        "id": "WxnEZXwQmqKq"
      },
      "source": [
        "**Obtain centroids and labels as parameters**"
      ]
    },
    {
      "cell_type": "code",
      "metadata": {
        "colab": {
          "base_uri": "https://localhost:8080/"
        },
        "id": "OH-Ujchmj_wT",
        "outputId": "e7d11054-ddfb-41d6-af64-dadaec715665"
      },
      "source": [
        "label=kmedoids.labels_\n",
        "centroids=kmedoids.cluster_centers_\n",
        "print ('labels=',label)\n",
        "print ('mediod=',centroids)"
      ],
      "execution_count": 6,
      "outputs": [
        {
          "output_type": "stream",
          "text": [
            "labels= [1 1 0 0 1 0]\n",
            "mediod= [[4 0]\n",
            " [1 4]]\n"
          ],
          "name": "stdout"
        }
      ]
    },
    {
      "cell_type": "markdown",
      "metadata": {
        "id": "5vF3NgiymxyA"
      },
      "source": [
        "**Plotting the data and their clusters**"
      ]
    },
    {
      "cell_type": "code",
      "metadata": {
        "colab": {
          "base_uri": "https://localhost:8080/",
          "height": 265
        },
        "id": "pWEy-icskRYv",
        "outputId": "48a3603a-d8f2-47da-d908-6458e2459055"
      },
      "source": [
        "import matplotlib.pyplot as plot\n",
        "colours = ['r.', 'k.','b.','m.','g.']\n",
        "for i in range(len(X)):\n",
        "    plot.plot(X[i][0], X[i][1], colours[label[i]], markersize = 10 )\n",
        "for i in range(len(centroids)):\n",
        "    plot.plot(centroids[i][0], centroids[i][1], colours[i], markersize = 12, marker='*' )\n",
        "plot.show()"
      ],
      "execution_count": 7,
      "outputs": [
        {
          "output_type": "display_data",
          "data": {
            "image/png": "[encoded data removed]",
            "text/plain": [
              "<Figure size 432x288 with 1 Axes>"
            ]
          },
          "metadata": {
            "tags": [],
            "needs_background": "light"
          }
        }
      ]
    },
    {
      "cell_type": "code",
      "metadata": {
        "colab": {
          "resources": {
            "http://localhost:8080/nbextensions/google.colab/files.js": {
              "data": "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",
              "ok": true,
              "headers": [
                [
                  "content-type",
                  "application/javascript"
                ]
              ],
              "status": 200,
              "status_text": ""
            }
          },
          "base_uri": "https://localhost:8080/",
          "height": 174
        },
        "id": "93JWrpU7kZZk",
        "outputId": "850e441b-9a5c-4ee3-92d4-29a2bec1cd5b"
      },
      "source": [
        "from google.colab import files\n",
        "uploaded = files.upload()"
      ],
      "execution_count": 8,
      "outputs": [
        {
          "output_type": "display_data",
          "data": {
            "text/html": [
              "\n",
              "     <input type=\"file\" id=\"files-312f4941-2c12-41fc-9e14-d012cc30d97b\" name=\"files[]\" multiple disabled\n",
              "        style=\"border:none\" />\n",
              "     <output id=\"result-312f4941-2c12-41fc-9e14-d012cc30d97b\">\n",
              "      Upload widget is only available when the cell has been executed in the\n",
              "      current browser session. Please rerun this cell to enable.\n",
              "      </output>\n",
              "      <script src=\"/nbextensions/google.colab/files.js\"></script> "
            ],
            "text/plain": [
              "<IPython.core.display.HTML object>"
            ]
          },
          "metadata": {
            "tags": []
          }
        },
        {
          "output_type": "stream",
          "text": [
            "Saving iris_org.txt to iris_org.txt\n",
            "Saving 21D_data.txt to 21D_data.txt\n",
            "Saving 4D_data.txt to 4D_data.txt\n",
            "Saving 2D_data.txt to 2D_data.txt\n"
          ],
          "name": "stdout"
        }
      ]
    },
    {
      "cell_type": "markdown",
      "metadata": {
        "id": "qHlCGKSIm3rN"
      },
      "source": [
        "**Considering the iris data set**"
      ]
    },
    {
      "cell_type": "code",
      "metadata": {
        "colab": {
          "base_uri": "https://localhost:8080/"
        },
        "id": "D8RkJ_4lkhSB",
        "outputId": "bfc2609f-f672-4144-cd34-793206856a47"
      },
      "source": [
        "read_file=open(\"iris_org.txt\",'r')\n",
        "read_content= read_file.read()\n",
        "\n",
        "all_data= read_content.splitlines()\n",
        "No_data_points=len(all_data)\n",
        "print (\"Number of the data points :- \", No_data_points)\n",
        "features = all_data[0].split(\"\\t\")\n",
        "No_of_features = len(features)-1\n",
        "print (\"Number the features/samples :- \", No_of_features)"
      ],
      "execution_count": 9,
      "outputs": [
        {
          "output_type": "stream",
          "text": [
            "Number of the data points :-  150\n",
            "Number the features/samples :-  4\n"
          ],
          "name": "stdout"
        }
      ]
    },
    {
      "cell_type": "markdown",
      "metadata": {
        "id": "LV5H8rpwm7nm"
      },
      "source": [
        "\n",
        "**Loading the dataset in a 2D matrix**"
      ]
    },
    {
      "cell_type": "code",
      "metadata": {
        "id": "caDUNglZkl8c"
      },
      "source": [
        "X=np.zeros((No_data_points,No_of_features))\n",
        "true_label = []\n",
        "counter = 0\n",
        "for lines in all_data:\n",
        "    values=lines.split('\\t')\n",
        "    for i in range(0,No_of_features):\n",
        "        X[counter][i]= values[i]\n",
        "    true_label.append(int(values[No_of_features]))     #\n",
        "    counter+=1\n",
        "#print (X)"
      ],
      "execution_count": 10,
      "outputs": []
    },
    {
      "cell_type": "markdown",
      "metadata": {
        "id": "82qXostbnCQk"
      },
      "source": [
        "**Clustering iris data set with optimal value of K as 3**"
      ]
    },
    {
      "cell_type": "code",
      "metadata": {
        "id": "9IFRj7jzkpzZ"
      },
      "source": [
        "kmedoids = KMedoids(n_clusters=3, random_state=0).fit(X)"
      ],
      "execution_count": 11,
      "outputs": []
    },
    {
      "cell_type": "code",
      "metadata": {
        "colab": {
          "base_uri": "https://localhost:8080/"
        },
        "id": "7jwZaUD2ksi0",
        "outputId": "13448bf1-481a-4620-cb7f-960e817b6445"
      },
      "source": [
        "label=kmedoids.labels_\n",
        "centroids=kmedoids.cluster_centers_\n",
        "print ('label=',label)\n",
        "print ('mediod=',centroids)"
      ],
      "execution_count": 12,
      "outputs": [
        {
          "output_type": "stream",
          "text": [
            "label= [2 0 0 2 0 0 2 0 0 2 1 0 2 0 0 2 1 0 2 0 1 2 1 0 2 0 0 2 1 0 2 1 0 2 1 0 2\n",
            " 1 0 2 1 0 2 1 0 2 0 0 2 1 0 2 1 0 2 1 0 2 1 0 2 0 0 2 1 0 2 0 0 2 1 0 2 1\n",
            " 0 2 1 0 2 0 0 2 0 0 2 1 0 2 1 0 2 1 0 2 1 0 2 1 0 2 0 0 2 1 0 2 1 0 2 0 0\n",
            " 2 1 0 2 1 0 2 1 0 2 1 0 2 1 0 2 1 0 2 1 0 2 1 0 2 1 0 2 1 0 2 1 0 2 1 0 2\n",
            " 1 0]\n",
            "mediod= [[6.5 3.  5.2 2. ]\n",
            " [5.7 2.8 4.1 1.3]\n",
            " [5.  3.4 1.5 0.2]]\n"
          ],
          "name": "stdout"
        }
      ]
    },
    {
      "cell_type": "markdown",
      "metadata": {
        "id": "e5sc_SGPnJLA"
      },
      "source": [
        "**Plotting the data and their clusters**"
      ]
    },
    {
      "cell_type": "code",
      "metadata": {
        "colab": {
          "base_uri": "https://localhost:8080/",
          "height": 268
        },
        "id": "VIy-pBGok7GA",
        "outputId": "2ed36144-55f4-43cc-f0f5-42b88af4f742"
      },
      "source": [
        "import matplotlib.pyplot as plot\n",
        "colours = ['r.', 'k.','b.','m.','g.']\n",
        "for i in range(len(X)):\n",
        "    plot.plot(X[i][0], X[i][1], colours[label[i]], markersize = 10 )\n",
        "for i in range(len(centroids)):\n",
        "    plot.plot(centroids[i][0], centroids[i][1], colours[i], markersize = 12, marker='*' )\n",
        "plot.show()"
      ],
      "execution_count": 13,
      "outputs": [
        {
          "output_type": "display_data",
          "data": {
            "image/png": "[encoded data removed]",
            "text/plain": [
              "<Figure size 432x288 with 1 Axes>"
            ]
          },
          "metadata": {
            "tags": [],
            "needs_background": "light"
          }
        }
      ]
    },
    {
      "cell_type": "code",
      "metadata": {
        "id": "gk8NedODlAIa"
      },
      "source": [
        "import sklearn.metrics as metrics\n",
        "from sklearn.metrics import silhouette_score\n",
        "from sklearn.metrics import adjusted_rand_score, adjusted_mutual_info_score"
      ],
      "execution_count": 23,
      "outputs": []
    },
    {
      "cell_type": "code",
      "metadata": {
        "colab": {
          "base_uri": "https://localhost:8080/"
        },
        "id": "jN6SVQWIlQvg",
        "outputId": "047ccf26-6eb5-460e-ee60-d1738893e26a"
      },
      "source": [
        "Sil_score=silhouette_score(X,label)\n",
        "print (\"Silhouette Score: \", Sil_score)"
      ],
      "execution_count": 24,
      "outputs": [
        {
          "output_type": "stream",
          "text": [
            "Silhouette Score:  0.520198401310698\n"
          ],
          "name": "stdout"
        }
      ]
    },
    {
      "cell_type": "code",
      "metadata": {
        "colab": {
          "base_uri": "https://localhost:8080/"
        },
        "id": "nEorx3sGlWBw",
        "outputId": "d0e6f5e6-9d70-4f4e-9be9-c98e2692c184"
      },
      "source": [
        "ARI=metrics.adjusted_rand_score(true_label, label)\n",
        "print (ARI)"
      ],
      "execution_count": 25,
      "outputs": [
        {
          "output_type": "stream",
          "text": [
            "0.7583384522539416\n"
          ],
          "name": "stdout"
        }
      ]
    }
  ]
}